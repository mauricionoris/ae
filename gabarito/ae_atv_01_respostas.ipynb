{
  "nbformat": 4,
  "nbformat_minor": 0,
  "metadata": {
    "colab": {
      "provenance": [],
      "authorship_tag": "ABX9TyMXbJ+f5vEc1UYIzmepb6WY",
      "include_colab_link": true
    },
    "kernelspec": {
      "name": "python3",
      "display_name": "Python 3"
    },
    "language_info": {
      "name": "python"
    }
  },
  "cells": [
    {
      "cell_type": "markdown",
      "metadata": {
        "id": "view-in-github",
        "colab_type": "text"
      },
      "source": [
        "<a href=\"https://colab.research.google.com/github/mauricionoris/ae/blob/master/gabarito/ae_atv_01_respostas.ipynb\" target=\"_parent\"><img src=\"https://colab.research.google.com/assets/colab-badge.svg\" alt=\"Open In Colab\"/></a>"
      ]
    },
    {
      "cell_type": "markdown",
      "source": [
        "# Busca aleatória em Python."
      ],
      "metadata": {
        "id": "9sv9VxzFtIql"
      }
    },
    {
      "cell_type": "code",
      "execution_count": 4,
      "metadata": {
        "colab": {
          "base_uri": "https://localhost:8080/"
        },
        "id": "cI-ZPqIprvwW",
        "outputId": "3dc9e492-a3b8-43c0-c7e3-c5b20fb34e3c"
      },
      "outputs": [
        {
          "output_type": "stream",
          "name": "stdout",
          "text": [
            "Melhor solução encontrada: x = 3.0235, f(x) = 8.9994\n"
          ]
        }
      ],
      "source": [
        "import random\n",
        "\n",
        "# Função objetivo (exemplo: maximizar f(x) = -(x-3)^2 + 9)\n",
        "def f(x):\n",
        "    return -(x - 3)**2 + 9\n",
        "\n",
        "# Parâmetros da busca\n",
        "n_iter = 100     # número de iterações\n",
        "limites = (-10, 10)  # intervalo de busca\n",
        "\n",
        "# Inicialização\n",
        "melhor_x = None\n",
        "melhor_f = float(\"-inf\")\n",
        "\n",
        "# Loop de busca aleatória\n",
        "for i in range(n_iter):\n",
        "    # Gera candidato aleatório no intervalo\n",
        "    candidato = random.uniform(limites[0], limites[1])\n",
        "    valor = f(candidato)\n",
        "\n",
        "    # Atualiza melhor solução\n",
        "    if valor > melhor_f:\n",
        "        melhor_f = valor\n",
        "        melhor_x = candidato\n",
        "\n",
        "print(f\"Melhor solução encontrada: x = {melhor_x:.4f}, f(x) = {melhor_f:.4f}\")"
      ]
    },
    {
      "cell_type": "markdown",
      "source": [
        "# Exercícios\n",
        "\n",
        "1. Alterar a função objetivo\n",
        "Troque a função f(x) para f(x) = x * sin(x) no intervalo (-10, 10) e veja qual solução a busca encontra.\n",
        "\n",
        "1. Mudar o número de iterações\n",
        "Teste a busca aleatória com n_iter = 10, n_iter = 1_000 e n_iter = 10_000.\n",
        "→ O que acontece com a qualidade da solução conforme aumenta o número de iterações?\n",
        "\n",
        "1. Comparar intervalos diferentes\n",
        "Rode a busca no intervalo (-100, 100) e depois em (-5, 5).\n",
        "→ Há diferença nos resultados encontrados?\n",
        "\n",
        "1. Guardar o histórico\n",
        "Modifique o código para salvar os valores de f(x) a cada iteração em uma lista. Depois, imprima o maior valor ao final para verificar se bate com o resultado já obtido.\n",
        "\n",
        "1. Visualizar os resultados\n",
        "Plote um gráfico da função f(x) no intervalo (-10, 10) e marque o melhor ponto encontrado pela busca aleatória."
      ],
      "metadata": {
        "id": "JiWVx5C5s0tr"
      }
    },
    {
      "cell_type": "markdown",
      "source": [
        "# Respostas"
      ],
      "metadata": {
        "id": "YJ0o1AlLZtC7"
      }
    },
    {
      "cell_type": "code",
      "source": [
        "# Exercício 1\n",
        "\n",
        "import numpy as np\n",
        "\n",
        "def f_ex1(x):\n",
        "\n",
        "  return x * np.sin(x)\n",
        "\n",
        "\n",
        "\n",
        "# Parâmetros da busca\n",
        "n_iter = 100     # número de iterações\n",
        "limites = (-10, 10)  # intervalo de busca\n",
        "\n",
        "# Inicialização\n",
        "melhor_x = None\n",
        "melhor_f = float(\"-inf\")\n",
        "\n",
        "# Loop de busca aleatória\n",
        "for i in range(n_iter):\n",
        "    # Gera candidato aleatório no intervalo\n",
        "    candidato = random.uniform(limites[0], limites[1])\n",
        "    valor = f_ex1(candidato)\n",
        "\n",
        "    # Atualiza melhor solução\n",
        "    if valor > melhor_f:\n",
        "        melhor_f = valor\n",
        "        melhor_x = candidato\n",
        "\n",
        "print(f\"Melhor solução encontrada: x = {melhor_x:.4f}, f(x) = {melhor_f:.4f}\")"
      ],
      "metadata": {
        "colab": {
          "base_uri": "https://localhost:8080/"
        },
        "id": "xkPzwC76ZsT4",
        "outputId": "1a9dc0b9-da44-45da-8dd1-1ea85a2c6dc0"
      },
      "execution_count": 36,
      "outputs": [
        {
          "output_type": "stream",
          "name": "stdout",
          "text": [
            "Melhor solução encontrada: x = 8.0148, f(x) = 7.9114\n"
          ]
        }
      ]
    },
    {
      "cell_type": "code",
      "source": [
        "# Exercício 2\n",
        "\n",
        "# Parâmetros da busca\n",
        "n_iter_ex2 = [10,100,1000,10000]     # número de iterações\n",
        "limites_ex3 = (-10, 10)  # intervalo de busca\n",
        "\n",
        "# Inicialização\n",
        "melhor_x = None\n",
        "melhor_f = float(\"-inf\")\n",
        "\n",
        "for n_iter in n_iter_ex2:\n",
        "    # Loop de busca aleatória\n",
        "    for i in range(n_iter):\n",
        "        # Gera candidato aleatório no intervalo\n",
        "        candidato = random.uniform(limites[0], limites[1])\n",
        "        valor = f_ex1(candidato)\n",
        "\n",
        "        # Atualiza melhor solução\n",
        "        if valor > melhor_f:\n",
        "            melhor_f = valor\n",
        "            melhor_x = candidato\n",
        "\n",
        "    print(f\"Melhor solução encontrada: x = {melhor_x:.4f}, f(x) = {melhor_f:.4f}, com {n_iter} iterações\")\n",
        "\n",
        "\n"
      ],
      "metadata": {
        "id": "-AjpvV95sYFi",
        "colab": {
          "base_uri": "https://localhost:8080/"
        },
        "outputId": "f9504d2d-82c1-4ae0-ca21-5b07f4806468"
      },
      "execution_count": 29,
      "outputs": [
        {
          "output_type": "stream",
          "name": "stdout",
          "text": [
            "Melhor solução encontrada: x = 8.0128, f(x) = 7.9120, com 10 iterações\n",
            "Melhor solução encontrada: x = 7.9687, f(x) = 7.9163, com 100 iterações\n",
            "Melhor solução encontrada: x = -7.9795, f(x) = 7.9167, com 1000 iterações\n",
            "Melhor solução encontrada: x = 7.9788, f(x) = 7.9167, com 10000 iterações\n"
          ]
        }
      ]
    },
    {
      "cell_type": "code",
      "source": [
        "# Exercício 3\n",
        "\n",
        "# Parâmetros da busca\n",
        "n_iter = 100    # número de iterações\n",
        "limites_ex3 = [(-5,5),(-10, 10),(-100, 100)]  # intervalo de busca\n",
        "\n",
        "# Inicialização\n",
        "melhor_x = None\n",
        "melhor_f = float(\"-inf\")\n",
        "\n",
        "for limites in limites_ex3:\n",
        "    # Loop de busca aleatória\n",
        "    for i in range(n_iter):\n",
        "        # Gera candidato aleatório no intervalo\n",
        "        candidato = random.uniform(limites[0], limites[1])\n",
        "        valor = f_ex1(candidato)\n",
        "\n",
        "        # Atualiza melhor solução\n",
        "        if valor > melhor_f:\n",
        "            melhor_f = valor\n",
        "            melhor_x = candidato\n",
        "\n",
        "    print(f\"Melhor solução encontrada: x = {melhor_x:.4f}, f(x) = {melhor_f:.4f}, com limites em {limites} \")\n",
        "\n",
        "\n"
      ],
      "metadata": {
        "colab": {
          "base_uri": "https://localhost:8080/"
        },
        "id": "CEPpIkAEa8A-",
        "outputId": "59bff25b-4680-40c1-f62a-739fbf41a17c"
      },
      "execution_count": 30,
      "outputs": [
        {
          "output_type": "stream",
          "name": "stdout",
          "text": [
            "Melhor solução encontrada: x = 1.9910, f(x) = 1.8178, com limites em (-5, 5) \n",
            "Melhor solução encontrada: x = 8.0617, f(x) = 7.8884, com limites em (-10, 10) \n",
            "Melhor solução encontrada: x = -96.1482, f(x) = 90.9723, com limites em (-100, 100) \n"
          ]
        }
      ]
    },
    {
      "cell_type": "code",
      "source": [
        "# Exercício 4\n",
        "\n",
        "resultados = []\n",
        "\n",
        "# Parâmetros da busca\n",
        "n_iter = 100     # número de iterações\n",
        "limites = (-10, 10)  # intervalo de busca\n",
        "\n",
        "# Inicialização\n",
        "melhor_x = None\n",
        "melhor_f = float(\"-inf\")\n",
        "\n",
        "# Loop de busca aleatória\n",
        "for i in range(n_iter):\n",
        "    # Gera candidato aleatório no intervalo\n",
        "    candidato = random.uniform(limites[0], limites[1])\n",
        "    valor = f(candidato)\n",
        "\n",
        "    resultados.append(valor)\n",
        "\n",
        "    # Atualiza melhor solução\n",
        "    if valor > melhor_f:\n",
        "        melhor_f = valor\n",
        "        melhor_x = candidato\n",
        "\n",
        "print(f\"Melhor solução encontrada: x = {melhor_x:.4f}, f(x) = {melhor_f}, maior valor da lista = {max(resultados)}\")\n",
        "\n"
      ],
      "metadata": {
        "colab": {
          "base_uri": "https://localhost:8080/"
        },
        "id": "4a3B3UXMcbO4",
        "outputId": "849a3805-3e0e-41b9-da12-7e01bf381505"
      },
      "execution_count": 33,
      "outputs": [
        {
          "output_type": "stream",
          "name": "stdout",
          "text": [
            "Melhor solução encontrada: x = 2.9740, f(x) = 8.999325993114063, maior valor da lista = 8.999325993114063\n"
          ]
        }
      ]
    },
    {
      "cell_type": "code",
      "source": [
        "# Exercício 5\n",
        "\n",
        "\n",
        "import matplotlib.pyplot as plt\n",
        "\n",
        "# Parâmetros da busca\n",
        "n_iter = 100       # número de iterações\n",
        "limites = (-10, 10)  # intervalo de busca\n",
        "\n",
        "\n",
        "# --- Visualização ---\n",
        "x_vals = np.linspace(limites[0], limites[1], 400)\n",
        "y_vals = f_ex1(x_vals)\n",
        "\n",
        "plt.figure(figsize=(8,5))\n",
        "plt.plot(x_vals, y_vals, label='f(x)', color='blue')\n",
        "plt.scatter(melhor_x, melhor_f, color='red', s=80, label='Melhor ponto encontrado')\n",
        "plt.title('Busca Aleatória')\n",
        "plt.xlabel('x')\n",
        "plt.ylabel('f(x)')\n",
        "plt.legend()\n",
        "plt.grid(True)\n",
        "plt.show()"
      ],
      "metadata": {
        "colab": {
          "base_uri": "https://localhost:8080/",
          "height": 487
        },
        "id": "_vuoWBNCc_hd",
        "outputId": "d97d3383-ab5c-4774-84c0-987c09e4e3f6"
      },
      "execution_count": 37,
      "outputs": [
        {
          "output_type": "display_data",
          "data": {
            "text/plain": [
              "<Figure size 800x500 with 1 Axes>"
            ],
            "image/png": "[encoded data removed]"
          },
          "metadata": {}
        }
      ]
    },
    {
      "cell_type": "code",
      "source": [],
      "metadata": {
        "id": "aOEarCB1dbkc"
      },
      "execution_count": null,
      "outputs": []
    }
  ]
}