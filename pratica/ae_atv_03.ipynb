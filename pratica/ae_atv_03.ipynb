{
  "nbformat": 4,
  "nbformat_minor": 0,
  "metadata": {
    "colab": {
      "provenance": [],
      "authorship_tag": "ABX9TyPTRVWm+zr1V3GI5wvBBtPX",
      "include_colab_link": true
    },
    "kernelspec": {
      "name": "python3",
      "display_name": "Python 3"
    },
    "language_info": {
      "name": "python"
    }
  },
  "cells": [
    {
      "cell_type": "markdown",
      "metadata": {
        "id": "view-in-github",
        "colab_type": "text"
      },
      "source": [
        "<a href=\"https://colab.research.google.com/github/mauricionoris/ae/blob/master/pratica/ae_atv_03.ipynb\" target=\"_parent\"><img src=\"https://colab.research.google.com/assets/colab-badge.svg\" alt=\"Open In Colab\"/></a>"
      ]
    },
    {
      "cell_type": "markdown",
      "source": [
        "\n",
        "# Introdução – Seleção em Algoritmos Evolutivos\n",
        "\n",
        "Nos **Algoritmos Evolutivos (AEs)**, a população é composta por várias soluções candidatas para um problema. Cada indivíduo recebe uma nota chamada **fitness**, que indica o quão boa é essa solução.\n",
        "\n",
        "O próximo passo é **selecionar indivíduos** que servirão de base para criar a nova geração (via cruzamento e mutação).\n",
        "Essa etapa é crucial: se sempre escolhermos apenas os melhores, podemos perder diversidade. Se escolhermos totalmente ao acaso, o algoritmo demora para convergir.\n",
        "\n",
        "Por isso, existem métodos de seleção que **equilibram exploração e intensificação**. Dois dos mais usados são:\n",
        "\n",
        "---\n",
        "\n",
        "## Seleção por Roleta\n",
        "\n",
        "* Imagine uma roleta de cassino em que cada indivíduo ocupa uma fatia proporcional ao seu fitness.\n",
        "* Quanto maior o fitness, maior a fatia → maior a probabilidade de ser escolhido.\n",
        "* Indivíduos fracos ainda têm chance, mas pequena.\n",
        "\n",
        "Vantagem: respeita proporcionalidade.\n",
        "Limitação: pode ser influenciada demais por diferenças grandes de escala.\n",
        "\n",
        "---\n",
        "\n",
        "##  Seleção por Torneio\n",
        "\n",
        "* Escolhem-se **k indivíduos aleatoriamente** e comparam-se seus fitness.\n",
        "* O vencedor do torneio é o que tem maior fitness.\n",
        "* Ajustando o tamanho `k`, controlamos a pressão seletiva:\n",
        "\n",
        "  * `k` pequeno → mais diversidade.\n",
        "  * `k` grande → maior probabilidade de escolher sempre os melhores.\n",
        "\n",
        " Vantagem: simples de implementar e ajustar.\n",
        " Limitação: precisa escolher bem `k` para não perder diversidade.\n",
        "\n"
      ],
      "metadata": {
        "id": "sa-eZ8QwFKts"
      }
    },
    {
      "cell_type": "markdown",
      "source": [
        "# Seleção por Roleta"
      ],
      "metadata": {
        "id": "4iO4Si8etm94"
      }
    },
    {
      "cell_type": "code",
      "execution_count": 1,
      "metadata": {
        "colab": {
          "base_uri": "https://localhost:8080/"
        },
        "id": "cI-ZPqIprvwW",
        "outputId": "01b0b31e-45d4-4320-f719-9a1043f10a02"
      },
      "outputs": [
        {
          "output_type": "stream",
          "name": "stdout",
          "text": [
            "População inicial:\n",
            "Indivíduo: 0.7470 -> Fitness: 3.9242\n",
            "Indivíduo: 0.3497 -> Fitness: 1.9758\n",
            "Indivíduo: -1.1740 -> Fitness: -8.4226\n",
            "Indivíduo: 2.0156 -> Fitness: 8.0309\n",
            "Indivíduo: 2.3206 -> Fitness: 8.5384\n",
            "Indivíduo: -3.6729 -> Fitness: -35.5279\n",
            "Indivíduo: 5.2835 -> Fitness: 3.7859\n",
            "Indivíduo: 3.0923 -> Fitness: 8.9915\n",
            "Indivíduo: 1.9373 -> Fitness: 7.8707\n",
            "Indivíduo: -2.7352 -> Fitness: -23.8922\n",
            "\n",
            "Indivíduo selecionado (roleta): 0.7470476535212196\n"
          ]
        }
      ],
      "source": [
        "import random\n",
        "\n",
        "# Função de fitness (mesmo exemplo)\n",
        "def fitness(x):\n",
        "    return -(x - 3)**2 + 9\n",
        "\n",
        "# População de exemplo\n",
        "populacao = [random.uniform(-10, 10) for _ in range(10)]\n",
        "fitness_vals = [fitness(ind) for ind in populacao]\n",
        "\n",
        "def selecao_roleta(populacao, fitness_vals):\n",
        "    soma_fit = sum(fitness_vals)\n",
        "    pick = random.uniform(0, soma_fit)\n",
        "    atual = 0\n",
        "    for ind, fit in zip(populacao, fitness_vals):\n",
        "        atual += fit\n",
        "        if atual >= pick:\n",
        "            return ind\n",
        "\n",
        "# Exemplo de seleção\n",
        "print(\"População inicial:\")\n",
        "for ind, fit in zip(populacao, fitness_vals):\n",
        "    print(f\"Indivíduo: {ind:.4f} -> Fitness: {fit:.4f}\")\n",
        "\n",
        "print(\"\\nIndivíduo selecionado (roleta):\", selecao_roleta(populacao, fitness_vals))\n"
      ]
    },
    {
      "cell_type": "markdown",
      "source": [
        "# Seleção por Torneio\n",
        "\n"
      ],
      "metadata": {
        "id": "93avco1vtvQJ"
      }
    },
    {
      "cell_type": "code",
      "source": [
        "import random\n",
        "\n",
        "# Função de fitness\n",
        "def fitness(x):\n",
        "    return -(x - 3)**2 + 9\n",
        "\n",
        "# População de exemplo\n",
        "populacao = [random.uniform(-10, 10) for _ in range(10)]\n",
        "fitness_vals = [fitness(ind) for ind in populacao]\n",
        "\n",
        "def selecao_torneio(populacao, fitness_vals, k=3):\n",
        "    participantes = random.sample(list(zip(populacao, fitness_vals)), k)\n",
        "    vencedor = max(participantes, key=lambda x: x[1])\n",
        "    return vencedor[0]\n",
        "\n",
        "# Exemplo de seleção\n",
        "print(\"População inicial:\")\n",
        "for ind, fit in zip(populacao, fitness_vals):\n",
        "    print(f\"Indivíduo: {ind:.4f} -> Fitness: {fit:.4f}\")\n",
        "\n",
        "print(\"\\nIndivíduo selecionado (torneio):\", selecao_torneio(populacao, fitness_vals, k=3))"
      ],
      "metadata": {
        "id": "-AjpvV95sYFi",
        "colab": {
          "base_uri": "https://localhost:8080/"
        },
        "outputId": "4f965bc4-8c22-46a6-ac6f-d0ee2a576ca6"
      },
      "execution_count": 2,
      "outputs": [
        {
          "output_type": "stream",
          "name": "stdout",
          "text": [
            "População inicial:\n",
            "Indivíduo: 9.0945 -> Fitness: -28.1429\n",
            "Indivíduo: -7.8135 -> Fitness: -107.9322\n",
            "Indivíduo: -8.0914 -> Fitness: -114.0181\n",
            "Indivíduo: 5.2895 -> Fitness: 3.7581\n",
            "Indivíduo: -3.4740 -> Fitness: -32.9125\n",
            "Indivíduo: 3.0828 -> Fitness: 8.9931\n",
            "Indivíduo: -6.0632 -> Fitness: -73.1413\n",
            "Indivíduo: -4.1902 -> Fitness: -42.6992\n",
            "Indivíduo: -2.1890 -> Fitness: -17.9253\n",
            "Indivíduo: 2.3534 -> Fitness: 8.5819\n",
            "\n",
            "Indivíduo selecionado (torneio): 9.094499802742071\n"
          ]
        }
      ]
    },
    {
      "cell_type": "markdown",
      "source": [
        "# Exercícios\n",
        "\n",
        "## Parte 1 - Roleta\n",
        "\n",
        "1. Rode a seleção 10 vezes seguidas e veja se os indivíduos com maior fitness aparecem mais frequentemente.\n",
        "\n",
        "1. Modifique a função de fitness para f(x) = x**2 e compare a seleção por roleta.\n",
        "\n",
        "1.  Implemente uma função que selecione 2 indivíduos por roleta e os retorne em uma lista.\n",
        "\n",
        "1. Teste com uma população muito desbalanceada (ex.: fitness de alguns = 0.1, outros = 100). O que acontece?\n",
        "\n",
        "1. Plote um gráfico de barras mostrando a frequência de seleção de cada indivíduo após 1.000 seleções.\n",
        "\n",
        "\n",
        "## Parte 2 - Torneio\n",
        "\n",
        "6. Rode a seleção 10 vezes com k=2 e depois com k=5.\n",
        "→ O que muda no indivíduo selecionado?\n",
        "\n",
        "6. Altere a função de fitness para f(x) = -abs(x-2) e veja o impacto nos vencedores do torneio.\n",
        "\n",
        "6. Implemente uma versão que retorna 2 vencedores de torneio em vez de apenas um.\n",
        "\n",
        "6. Teste populações grandes (50 ou 100 indivíduos) e compare os resultados da seleção.\n",
        "\n",
        "6. Simule 1.000 torneios e plote um gráfico mostrando quais indivíduos foram selecionados mais vezes."
      ],
      "metadata": {
        "id": "fiwPyAsnBX2r"
      }
    },
    {
      "cell_type": "code",
      "source": [],
      "metadata": {
        "id": "L-14mAziBZhR"
      },
      "execution_count": null,
      "outputs": []
    }
  ]
}