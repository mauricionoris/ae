{
  "nbformat": 4,
  "nbformat_minor": 0,
  "metadata": {
    "colab": {
      "provenance": [],
      "authorship_tag": "ABX9TyNai7ovLaWWGLq6pC7Ie26O",
      "include_colab_link": true
    },
    "kernelspec": {
      "name": "python3",
      "display_name": "Python 3"
    },
    "language_info": {
      "name": "python"
    }
  },
  "cells": [
    {
      "cell_type": "markdown",
      "metadata": {
        "id": "view-in-github",
        "colab_type": "text"
      },
      "source": [
        "<a href=\"https://colab.research.google.com/github/mauricionoris/ae/blob/master/pratica/ae_atv_02_1.ipynb\" target=\"_parent\"><img src=\"https://colab.research.google.com/assets/colab-badge.svg\" alt=\"Open In Colab\"/></a>"
      ]
    },
    {
      "cell_type": "markdown",
      "source": [
        "#Codificação Binária\n",
        "\n",
        "A função **`fitness(individuo)`** serve para avaliar a qualidade de uma solução no problema da mochila. Cada indivíduo é uma lista de bits (0s e 1s), onde **1 indica que o item foi escolhido** e **0 indica que foi deixado de fora**.\n",
        "\n",
        "Primeiro, a função percorre o indivíduo e soma o **peso total** e o **valor total** dos itens selecionados. Isso é feito utilizando o comando `zip(individuo, itens)`, que associa cada gene (0 ou 1) ao item correspondente. Para cada gene igual a 1, o peso e o valor desse item são somados às variáveis acumuladoras.\n",
        "\n",
        "Depois disso, a função verifica se o **peso total ultrapassa a capacidade da mochila**. Caso ultrapasse, a solução é considerada inválida, e o fitness retorna **0**, penalizando o indivíduo — ou seja, quanto mais itens ele colocou além do limite, pior será sua pontuação.\n",
        "\n",
        "Se o peso estiver dentro do limite, o fitness retorna o **valor total dos itens escolhidos**. Assim, o algoritmo genético tenta **maximizar esse valor**, encontrando combinações de itens que tenham **maior valor possível sem exceder a capacidade**.\n",
        "\n",
        "Em resumo, a função mede o quão boa é uma solução com base em dois critérios:\n",
        "\n",
        "* **Alta recompensa** para combinações de alto valor dentro do limite;\n",
        "* **Penalização total** para combinações que ultrapassam o peso permitido.\n"
      ],
      "metadata": {
        "id": "79rQi2I2TKSJ"
      }
    },
    {
      "cell_type": "code",
      "execution_count": 1,
      "metadata": {
        "colab": {
          "base_uri": "https://localhost:8080/"
        },
        "id": "1hn3DKxGSkwW",
        "outputId": "92a7df50-82b7-4c60-db53-fc47c82cd2b7"
      },
      "outputs": [
        {
          "output_type": "stream",
          "name": "stdout",
          "text": [
            "Melhor indivíduo: [1, 1, 1, 0, 0]\n",
            "Valor total: 20\n"
          ]
        }
      ],
      "source": [
        "import random\n",
        "\n",
        "# --- Dados do problema ---\n",
        "itens = [\n",
        "    {\"peso\": 2, \"valor\": 6},\n",
        "    {\"peso\": 5, \"valor\": 9},\n",
        "    {\"peso\": 3, \"valor\": 5},\n",
        "    {\"peso\": 1, \"valor\": 2},\n",
        "    {\"peso\": 4, \"valor\": 7}\n",
        "]\n",
        "capacidade = 10\n",
        "\n",
        "# --- Função de fitness ---\n",
        "def fitness(individuo):\n",
        "    peso_total = 0\n",
        "    valor_total = 0\n",
        "    for gene, item in zip(individuo, itens):\n",
        "        if gene == 1:\n",
        "            peso_total += item[\"peso\"]\n",
        "            valor_total += item[\"valor\"]\n",
        "    # Penaliza se ultrapassar a capacidade\n",
        "    if peso_total > capacidade:\n",
        "        return 0\n",
        "    return valor_total\n",
        "\n",
        "# --- Geração de indivíduo binário ---\n",
        "def gerar_individuo(n_genes):\n",
        "    return [random.randint(0, 1) for _ in range(n_genes)]\n",
        "\n",
        "# --- Cruzamento (1 ponto de corte) ---\n",
        "def crossover(pai1, pai2):\n",
        "    ponto = random.randint(1, len(pai1) - 1)\n",
        "    filho1 = pai1[:ponto] + pai2[ponto:]\n",
        "    filho2 = pai2[:ponto] + pai1[ponto:]\n",
        "    return filho1, filho2\n",
        "\n",
        "# --- Mutação (inverte bits com pequena probabilidade) ---\n",
        "def mutacao(individuo, taxa=0.1):\n",
        "    for i in range(len(individuo)):\n",
        "        if random.random() < taxa:\n",
        "            individuo[i] = 1 - individuo[i]\n",
        "\n",
        "# --- Parâmetros do AG ---\n",
        "tam_pop = 20\n",
        "geracoes = 50\n",
        "taxa_mut = 0.1\n",
        "\n",
        "# --- População inicial ---\n",
        "n_genes = len(itens)\n",
        "pop = [gerar_individuo(n_genes) for _ in range(tam_pop)]\n",
        "\n",
        "# --- Loop evolutivo ---\n",
        "for g in range(geracoes):\n",
        "    fits = [fitness(ind) for ind in pop]\n",
        "    nova_pop = []\n",
        "\n",
        "    # Seleção por torneio e reprodução\n",
        "    for _ in range(tam_pop // 2):\n",
        "        pais = random.sample(pop, 4)\n",
        "        pai1 = max(pais[:2], key=fitness)\n",
        "        pai2 = max(pais[2:], key=fitness)\n",
        "        filho1, filho2 = crossover(pai1, pai2)\n",
        "        mutacao(filho1, taxa_mut)\n",
        "        mutacao(filho2, taxa_mut)\n",
        "        nova_pop.extend([filho1, filho2])\n",
        "\n",
        "    pop = nova_pop\n",
        "\n",
        "melhor = max(pop, key=fitness)\n",
        "print(\"Melhor indivíduo:\", melhor)\n",
        "print(\"Valor total:\", fitness(melhor))\n"
      ]
    },
    {
      "cell_type": "code",
      "source": [],
      "metadata": {
        "id": "pZyMrAbC3hNl"
      },
      "execution_count": null,
      "outputs": []
    },
    {
      "cell_type": "markdown",
      "source": [
        "# Exercícios\n",
        "\n",
        "\n",
        "### **Exercício 1 — Alterar a Função de Fitness**\n",
        "\n",
        "> **Objetivo:** testar diferentes formas de avaliar as soluções.\n",
        "\n",
        "**Tarefa:**\n",
        "Modifique a função `fitness(individuo)` para que **penalize parcialmente** os indivíduos que ultrapassarem a capacidade, ao invés de zerar o valor.\n",
        "Por exemplo:\n",
        "$$\n",
        "fitness = valorTotal - \\alpha \\times excessoPeso\n",
        "$$\n",
        "onde $\\alpha$ é uma constante (por exemplo, 2).\n",
        "Depois, **compare os resultados** com a versão original.\n",
        "\n",
        "---\n",
        "\n",
        "### **Exercício 2 — Acompanhar o Progresso da Evolução**\n",
        "\n",
        "> **Objetivo:** visualizar como o algoritmo melhora ao longo das gerações.\n",
        "\n",
        "**Tarefa:**\n",
        "Durante o loop evolutivo:\n",
        "\n",
        "1. Armazene o **melhor valor de fitness** de cada geração.\n",
        "2. Ao final, **plote um gráfico de linha** (usando `matplotlib`) mostrando a evolução do melhor fitness por geração.\n",
        "3. Analise se há **convergência prematura**.\n",
        "\n",
        "---\n",
        "\n",
        "### **Exercício 3 — Testar Diferentes Taxas de Mutação**\n",
        "\n",
        "> **Objetivo:** observar o impacto da variabilidade genética.\n",
        "\n",
        "**Tarefa:**\n",
        "Rode o código para **três valores de taxa de mutação**:\n",
        "\n",
        "* `taxa_mut = 0.01`\n",
        "* `taxa_mut = 0.1`\n",
        "* `taxa_mut = 0.3`\n",
        "\n",
        "Analise os resultados\n",
        "---\n",
        "\n",
        "### **Exercício 4 — Implementar Seleção por Roleta**\n",
        "\n",
        "> **Objetivo:** aplicar outro método de seleção de pais.\n",
        "\n",
        "**Tarefa:**\n",
        "Substitua a **seleção por torneio** pela **seleção por roleta (proporcional ao fitness)**:\n",
        "\n",
        "* Cada indivíduo tem chance de ser selecionado proporcional ao seu fitness.\n",
        "* Use `random.choices` com pesos.\n",
        "\n",
        "\n",
        "---\n",
        "\n",
        "### **Exercício 5 — Expandir o Problema (Mochila Maior)**\n",
        "\n",
        "> **Objetivo:** testar escalabilidade e robustez.\n",
        "\n",
        "**Tarefa:**\n",
        "Aumente o número de itens para 15 (com pesos e valores aleatórios entre 1 e 10).\n",
        "\n",
        "1. Ajuste o código para gerar esses itens automaticamente.\n",
        "2. Mantenha a capacidade da mochila em torno de ⅔ da soma total dos pesos.\n",
        "3. Analise se o AG ainda encontra boas soluções e se é necessário **aumentar o número de gerações ou o tamanho da população**.\n"
      ],
      "metadata": {
        "id": "kYtv1pXV3iMu"
      }
    },
    {
      "cell_type": "code",
      "source": [],
      "metadata": {
        "id": "vcqu9Dg8Sy-T"
      },
      "execution_count": null,
      "outputs": []
    }
  ]
}