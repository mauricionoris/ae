{
  "nbformat": 4,
  "nbformat_minor": 0,
  "metadata": {
    "colab": {
      "provenance": [],
      "authorship_tag": "ABX9TyPF6mLZb8yy6H/pkowfLO9J",
      "include_colab_link": true
    },
    "kernelspec": {
      "name": "python3",
      "display_name": "Python 3"
    },
    "language_info": {
      "name": "python"
    }
  },
  "cells": [
    {
      "cell_type": "markdown",
      "metadata": {
        "id": "view-in-github",
        "colab_type": "text"
      },
      "source": [
        "<a href=\"https://colab.research.google.com/github/mauricionoris/ae/blob/master/pratica/ae_atv_02.ipynb\" target=\"_parent\"><img src=\"https://colab.research.google.com/assets/colab-badge.svg\" alt=\"Open In Colab\"/></a>"
      ]
    },
    {
      "cell_type": "markdown",
      "source": [
        "# Estrutura inicial do AE: população + fitness."
      ],
      "metadata": {
        "id": "4iO4Si8etm94"
      }
    },
    {
      "cell_type": "code",
      "execution_count": 1,
      "metadata": {
        "colab": {
          "base_uri": "https://localhost:8080/"
        },
        "id": "cI-ZPqIprvwW",
        "outputId": "e0826693-ad75-4be8-ed07-48e1bc8e3f4b"
      },
      "outputs": [
        {
          "output_type": "stream",
          "name": "stdout",
          "text": [
            "População inicial:\n",
            "Indivíduo: 6.5131 -> Fitness: -3.3418\n",
            "Indivíduo: 2.0508 -> Fitness: 8.0991\n",
            "Indivíduo: -4.5423 -> Fitness: -47.8861\n",
            "Indivíduo: -5.6586 -> Fitness: -65.9720\n",
            "Indivíduo: -4.3244 -> Fitness: -44.6468\n",
            "Indivíduo: -3.5860 -> Fitness: -34.3752\n",
            "Indivíduo: -5.8449 -> Fitness: -69.2320\n",
            "Indivíduo: -4.2068 -> Fitness: -42.9383\n",
            "Indivíduo: -1.9628 -> Fitness: -15.6293\n",
            "Indivíduo: 9.9938 -> Fitness: -39.9138\n"
          ]
        }
      ],
      "source": [
        "import random\n",
        "\n",
        "# Função de fitness (mesma do exemplo anterior)\n",
        "def fitness(x):\n",
        "    return -(x - 3)**2 + 9\n",
        "\n",
        "# Gerar população inicial\n",
        "def criar_populacao(tamanho, limites):\n",
        "    return [random.uniform(limites[0], limites[1]) for _ in range(tamanho)]\n",
        "\n",
        "# Avaliar população\n",
        "def avaliar_populacao(populacao):\n",
        "    return [fitness(ind) for ind in populacao]\n",
        "\n",
        "# Parâmetros\n",
        "tam_pop = 10\n",
        "limites = (-10, 10)\n",
        "\n",
        "# Executando\n",
        "populacao = criar_populacao(tam_pop, limites)\n",
        "fitness_vals = avaliar_populacao(populacao)\n",
        "\n",
        "# Exibir resultados\n",
        "print(\"População inicial:\")\n",
        "for ind, fit in zip(populacao, fitness_vals):\n",
        "    print(f\"Indivíduo: {ind:.4f} -> Fitness: {fit:.4f}\")"
      ]
    },
    {
      "cell_type": "markdown",
      "source": [
        "# Exercícios:\n",
        "\n",
        "1. Alterar a função fitness:\n",
        "Troque a função fitness(x) para fitness(x) = -(x**2) + 5 e verifique os novos resultados.\n",
        "\n",
        "1. Aumentar a população:\n",
        "Experimente rodar o código com populações de tamanho 20, 50 e 100.\n",
        "→ O que muda nos valores obtidos?\n",
        "\n",
        "1. Histórico da população:\n",
        "Crie uma lista que armazene o melhor indivíduo da população. Exiba esse melhor valor ao final.\n",
        "\n",
        "1. Média de fitness:\n",
        "Calcule e exiba a média dos valores de fitness da população. Compare populações pequenas e grandes.\n",
        "\n",
        "1. Visualizar a população:\n",
        "Plote os indivíduos da população inicial em um gráfico 2D: eixo X = valor do indivíduo, eixo Y = fitness."
      ],
      "metadata": {
        "id": "93avco1vtvQJ"
      }
    },
    {
      "cell_type": "code",
      "source": [],
      "metadata": {
        "id": "-AjpvV95sYFi"
      },
      "execution_count": null,
      "outputs": []
    }
  ]
}