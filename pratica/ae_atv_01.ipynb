{
  "nbformat": 4,
  "nbformat_minor": 0,
  "metadata": {
    "colab": {
      "provenance": [],
      "authorship_tag": "ABX9TyOhU19i8thpkkilt9R0sSjg",
      "include_colab_link": true
    },
    "kernelspec": {
      "name": "python3",
      "display_name": "Python 3"
    },
    "language_info": {
      "name": "python"
    }
  },
  "cells": [
    {
      "cell_type": "markdown",
      "metadata": {
        "id": "view-in-github",
        "colab_type": "text"
      },
      "source": [
        "<a href=\"https://colab.research.google.com/github/mauricionoris/ae/blob/master/pratica/ae_atv_01.ipynb\" target=\"_parent\"><img src=\"https://colab.research.google.com/assets/colab-badge.svg\" alt=\"Open In Colab\"/></a>"
      ]
    },
    {
      "cell_type": "markdown",
      "source": [
        "# Busca aleatória em Python."
      ],
      "metadata": {
        "id": "9sv9VxzFtIql"
      }
    },
    {
      "cell_type": "code",
      "execution_count": 1,
      "metadata": {
        "colab": {
          "base_uri": "https://localhost:8080/"
        },
        "id": "cI-ZPqIprvwW",
        "outputId": "f339a3bf-295e-481d-c99d-e0701cbf12d8"
      },
      "outputs": [
        {
          "output_type": "stream",
          "name": "stdout",
          "text": [
            "Melhor solução encontrada: x = 3.1688, f(x) = 8.9715\n"
          ]
        }
      ],
      "source": [
        "import random\n",
        "\n",
        "# Função objetivo (exemplo: maximizar f(x) = -(x-3)^2 + 9)\n",
        "def f(x):\n",
        "    return -(x - 3)**2 + 9\n",
        "\n",
        "# Parâmetros da busca\n",
        "n_iter = 100     # número de iterações\n",
        "limites = (-10, 10)  # intervalo de busca\n",
        "\n",
        "# Inicialização\n",
        "melhor_x = None\n",
        "melhor_f = float(\"-inf\")\n",
        "\n",
        "# Loop de busca aleatória\n",
        "for i in range(n_iter):\n",
        "    # Gera candidato aleatório no intervalo\n",
        "    candidato = random.uniform(limites[0], limites[1])\n",
        "    valor = f(candidato)\n",
        "\n",
        "    # Atualiza melhor solução\n",
        "    if valor > melhor_f:\n",
        "        melhor_f = valor\n",
        "        melhor_x = candidato\n",
        "\n",
        "print(f\"Melhor solução encontrada: x = {melhor_x:.4f}, f(x) = {melhor_f:.4f}\")"
      ]
    },
    {
      "cell_type": "markdown",
      "source": [
        "# Exercícios\n",
        "\n",
        "1. Alterar a função objetivo\n",
        "Troque a função f(x) para f(x) = x * sin(x) no intervalo (-10, 10) e veja qual solução a busca encontra.\n",
        "\n",
        "1. Mudar o número de iterações\n",
        "Teste a busca aleatória com n_iter = 10, n_iter = 1_000 e n_iter = 10_000.\n",
        "→ O que acontece com a qualidade da solução conforme aumenta o número de iterações?\n",
        "\n",
        "1. Comparar intervalos diferentes\n",
        "Rode a busca no intervalo (-100, 100) e depois em (-5, 5).\n",
        "→ Há diferença nos resultados encontrados?\n",
        "\n",
        "1. Guardar o histórico\n",
        "Modifique o código para salvar os valores de f(x) a cada iteração em uma lista. Depois, imprima o maior valor ao final para verificar se bate com o resultado já obtido.\n",
        "\n",
        "1. Visualizar os resultados\n",
        "Plote um gráfico da função f(x) no intervalo (-10, 10) e marque o melhor ponto encontrado pela busca aleatória."
      ],
      "metadata": {
        "id": "JiWVx5C5s0tr"
      }
    },
    {
      "cell_type": "code",
      "source": [],
      "metadata": {
        "id": "-AjpvV95sYFi"
      },
      "execution_count": 1,
      "outputs": []
    }
  ]
}