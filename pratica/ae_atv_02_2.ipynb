{
  "nbformat": 4,
  "nbformat_minor": 0,
  "metadata": {
    "colab": {
      "provenance": [],
      "authorship_tag": "ABX9TyMZBHnZhvfgWfcfGwIbCxAe",
      "include_colab_link": true
    },
    "kernelspec": {
      "name": "python3",
      "display_name": "Python 3"
    },
    "language_info": {
      "name": "python"
    }
  },
  "cells": [
    {
      "cell_type": "markdown",
      "metadata": {
        "id": "view-in-github",
        "colab_type": "text"
      },
      "source": [
        "<a href=\"https://colab.research.google.com/github/mauricionoris/ae/blob/master/pratica/ae_atv_02_2.ipynb\" target=\"_parent\"><img src=\"https://colab.research.google.com/assets/colab-badge.svg\" alt=\"Open In Colab\"/></a>"
      ]
    },
    {
      "cell_type": "markdown",
      "source": [
        "# Codificação por vetor\n",
        "\n",
        "O código implementa um **Algoritmo Genético (AG)** para resolver o **Problema do Caixeiro Viajante (TSP)**, cujo objetivo é encontrar a rota mais curta que passa por todas as cidades e retorna à origem. Cada cidade é representada por coordenadas no plano e cada indivíduo da população corresponde a uma **ordem de visita** (permutação das cidades). A qualidade de cada rota é avaliada por uma função de **fitness**, definida como o inverso da distância total percorrida, de modo que rotas menores têm valores de fitness maiores.\n",
        "\n",
        "O processo evolutivo começa com uma **população inicial aleatória** e, a cada geração, aplica operadores genéticos para produzir novas soluções. A **seleção por torneio** escolhe os melhores indivíduos para reprodução, o **crossover (Order Crossover – OX)** combina partes de dois pais mantendo a ordem das cidades, e a **mutação** troca a posição de duas cidades, introduzindo diversidade genética. Esses mecanismos permitem que o algoritmo explore o espaço de soluções em busca de rotas mais curtas.\n",
        "\n",
        "Após várias gerações, o AG identifica o indivíduo com maior fitness, que representa a **melhor rota encontrada**. O resultado final exibe essa sequência de cidades e sua distância total. Como o processo é estocástico, diferentes execuções podem gerar resultados ligeiramente distintos, refletindo a natureza adaptativa e probabilística dos algoritmos evolutivos.\n"
      ],
      "metadata": {
        "id": "y5zUK4RHV7qL"
      }
    },
    {
      "cell_type": "code",
      "execution_count": 1,
      "metadata": {
        "colab": {
          "base_uri": "https://localhost:8080/"
        },
        "id": "eNc36-pDSHbL",
        "outputId": "c84b5a0b-d0b4-416a-b23b-55c1a50b4470"
      },
      "outputs": [
        {
          "output_type": "stream",
          "name": "stdout",
          "text": [
            "Melhor rota: [2, 1, 5, 3, 4]\n",
            "Distância total: 20.49\n"
          ]
        }
      ],
      "source": [
        "import random\n",
        "import math\n",
        "\n",
        "# --- Dados do problema ---\n",
        "cidades = {\n",
        "    1: (0, 0),\n",
        "    2: (2, 3),\n",
        "    3: (5, 4),\n",
        "    4: (1, 6),\n",
        "    5: (6, 1)\n",
        "}\n",
        "\n",
        "# Distância euclidiana entre duas cidades\n",
        "def distancia(a, b):\n",
        "    xa, ya = cidades[a]\n",
        "    xb, yb = cidades[b]\n",
        "    return math.sqrt((xa - xb)**2 + (ya - yb)**2)\n",
        "\n",
        "# Fitness = 1 / (distância total)\n",
        "def fitness(individuo):\n",
        "    total = 0\n",
        "    for i in range(len(individuo) - 1):\n",
        "        total += distancia(individuo[i], individuo[i + 1])\n",
        "    total += distancia(individuo[-1], individuo[0])  # volta ao início\n",
        "    return 1 / total\n",
        "\n",
        "# Gera indivíduo aleatório\n",
        "def gerar_individuo():\n",
        "    ind = list(cidades.keys())\n",
        "    random.shuffle(ind)\n",
        "    return ind\n",
        "\n",
        "# Cruzamento (Order Crossover - OX)\n",
        "def crossover(pai1, pai2):\n",
        "    n = len(pai1)\n",
        "    a, b = sorted(random.sample(range(n), 2))\n",
        "    filho = [None]*n\n",
        "    filho[a:b] = pai1[a:b]\n",
        "    pos = b\n",
        "    for gene in pai2:\n",
        "        if gene not in filho:\n",
        "            if pos >= n:\n",
        "                pos = 0\n",
        "            filho[pos] = gene\n",
        "            pos += 1\n",
        "    return filho\n",
        "\n",
        "# Mutação (troca duas cidades de lugar)\n",
        "def mutacao(ind):\n",
        "    a, b = random.sample(range(len(ind)), 2)\n",
        "    ind[a], ind[b] = ind[b], ind[a]\n",
        "\n",
        "# --- Execução do AG ---\n",
        "tam_pop = 20\n",
        "geracoes = 50\n",
        "taxa_mut = 0.2\n",
        "\n",
        "# População inicial\n",
        "pop = [gerar_individuo() for _ in range(tam_pop)]\n",
        "\n",
        "for g in range(geracoes):\n",
        "    # Avaliação\n",
        "    fits = [fitness(ind) for ind in pop]\n",
        "    nova_pop = []\n",
        "\n",
        "    # Seleção e reprodução\n",
        "    for _ in range(tam_pop // 2):\n",
        "        # Seleção por torneio\n",
        "        pais = random.sample(pop, 4)\n",
        "        pai1 = max(pais[:2], key=fitness)\n",
        "        pai2 = max(pais[2:], key=fitness)\n",
        "\n",
        "        # Cruzamento\n",
        "        filho1 = crossover(pai1, pai2)\n",
        "        filho2 = crossover(pai2, pai1)\n",
        "\n",
        "        # Mutação\n",
        "        if random.random() < taxa_mut:\n",
        "            mutacao(filho1)\n",
        "        if random.random() < taxa_mut:\n",
        "            mutacao(filho2)\n",
        "\n",
        "        nova_pop.extend([filho1, filho2])\n",
        "\n",
        "    pop = nova_pop\n",
        "\n",
        "melhor = max(pop, key=fitness)\n",
        "print(\"Melhor rota:\", melhor)\n",
        "print(\"Distância total:\", round(1 / fitness(melhor), 2))\n"
      ]
    },
    {
      "cell_type": "markdown",
      "source": [
        "# Exercícios\n",
        "\n",
        "### **Exercício 1 — Mostrar a Evolução da Distância**\n",
        "\n",
        "> **Objetivo:** visualizar se o algoritmo está convergindo para uma rota melhor.\n",
        "\n",
        "**Tarefa:**\n",
        "\n",
        "1. Durante o loop principal (`for g in range(geracoes):`), armazene o **menor valor de distância** de cada geração.\n",
        "2. Ao final, use o `matplotlib` para **plotar um gráfico** com:\n",
        "\n",
        "   * eixo x → número da geração\n",
        "   * eixo y → menor distância encontrada\n",
        "3. Interprete o comportamento do gráfico: o AG melhora de forma contínua? Há estagnação?\n",
        "\n",
        "---\n",
        "\n",
        "### **Exercício 2 — Alterar o Operador de Mutação**\n",
        "\n",
        "> **Objetivo:** testar outro método de diversificação.\n",
        "\n",
        "**Tarefa:**\n",
        "Implemente **mutação por inversão de segmento** (também chamada *swap sequence* ou *reverse mutation*):\n",
        "\n",
        "* Escolha dois índices aleatórios `i` e `j`.\n",
        "* Inverta a ordem das cidades nesse intervalo (`ind[i:j] = reversed(ind[i:j])`).\n",
        "  Compare o desempenho com o método atual (troca simples de duas cidades).\n",
        "\n",
        "---\n",
        "\n",
        "### **Exercício 3 — Adicionar Elitismo**\n",
        "\n",
        "> **Objetivo:** evitar perder a melhor solução entre gerações.\n",
        "\n",
        "**Tarefa:**\n",
        "Modifique o código para **preservar automaticamente o melhor indivíduo** de cada geração.\n",
        "Dica:\n",
        "\n",
        "* Antes de gerar a nova população, guarde o melhor da população atual.\n",
        "* Substitua o pior indivíduo da nova geração por ele.\n",
        "\n",
        "Verifique se o elitismo melhora os resultados finais.\n",
        "\n",
        "---\n",
        "\n",
        "### **Exercício 4 — Aumentar o Número de Cidades**\n",
        "\n",
        "> **Objetivo:** testar o comportamento do AG em instâncias maiores.\n",
        "\n",
        "**Tarefa:**\n",
        "\n",
        "1. Gere automaticamente **10 cidades** com coordenadas aleatórias no plano (por exemplo, `random.uniform(0, 10)` para x e y).\n",
        "2. Ajuste o código para trabalhar com o novo conjunto.\n",
        "3. Execute o AG com diferentes números de gerações (ex: 50, 100, 200).\n",
        "4. Observe se o tempo de execução e a qualidade das rotas mudam significativamente.\n",
        "\n",
        "\n"
      ],
      "metadata": {
        "id": "JOSqcNcq3b3r"
      }
    },
    {
      "cell_type": "code",
      "source": [],
      "metadata": {
        "id": "S4ViGSP_SQPn"
      },
      "execution_count": null,
      "outputs": []
    }
  ]
}